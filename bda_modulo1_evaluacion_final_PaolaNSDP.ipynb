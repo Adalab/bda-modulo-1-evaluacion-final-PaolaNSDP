{
 "cells": [
  {
   "cell_type": "code",
   "execution_count": 341,
   "metadata": {},
   "outputs": [],
   "source": [
    "class TiendaOnline:\n",
    "    def __init__(self, nombre):\n",
    "        self.nombre = nombre\n",
    "        self.inventario = [] \n",
    "        self.ventas_totales = 0.0\n",
    "        self.clientes = {} # {'Cliente1': {'email': 'cliente1@email.com', 'compras': []}, \n",
    "                           # 'Cliente2': {'email': 'cliente2@email.com', 'compras': []}}\n",
    "    def agregar_producto(self, nombre, precio, cantidad):\n",
    "        for producto in self.inventario:\n",
    "            if producto[\"nombre\"] == nombre:\n",
    "                producto[\"cantidad\"] += cantidad\n",
    "                print(f\"El producto {nombre} ya estaba en el inventario, se ha actualizado la cantidad a {cantidad} unidades\")\n",
    "                return\n",
    "        nuevo_producto = {\"nombre\" : nombre, \"precio\" : precio, \"cantidad\" : cantidad}\n",
    "        self.inventario.append(nuevo_producto)\n",
    "        return self.inventario\n",
    "    def ver_inventario(self):\n",
    "        for producto in self.inventario:\n",
    "            print(f\"Nombre: {producto['nombre']}, Precio: {producto['precio']}€, Cantidad: {producto['cantidad']}\")\n",
    "    def buscar_producto(self, nombre):\n",
    "        for producto in self.inventario:\n",
    "            if producto[\"nombre\"] == nombre:\n",
    "                print(f\"Nombre: {producto['nombre']}, Precio: {producto['precio']}€, Cantidad: {producto['cantidad']}\")\n",
    "                return\n",
    "        else:\n",
    "            print(\"El producto no se encuentra en el inventario\")\n",
    "    def actualizar_stock(self, nombre, cantidad):\n",
    "        for producto in self.inventario:\n",
    "            if producto[\"nombre\"].lower() == nombre.lower():\n",
    "                producto[\"cantidad\"] += cantidad\n",
    "                print(f\"Se ha añadido la cantidad {cantidad} al producto {nombre}\")\n",
    "                return\n",
    "        else:\n",
    "            print(f\"El producto {nombre} no se encuentra en el inventario\")\n",
    "    def eliminar_producto(self, nombre):\n",
    "        for producto in self.inventario:\n",
    "            if producto[\"nombre\"].lower() == nombre.lower():\n",
    "                self.inventario.remove(producto)\n",
    "                print(f\"El producto {nombre} ha sido eliminado del inventario\")\n",
    "                return\n",
    "        else:\n",
    "            print(f\"El producto {nombre} no está en el inventario\")\n",
    "    def calcular_calor_inventario(self):\n",
    "        valor_total_inventario = 0\n",
    "        for producto in self.inventario:\n",
    "            valor_producto = producto[\"precio\"] * producto[\"cantidad\"]\n",
    "            valor_total_inventario += valor_producto\n",
    "        return valor_total_inventario\n",
    "    def agregar_cliente(self, nombre, email):\n",
    "        if nombre not in self.clientes:\n",
    "            self.clientes[nombre] = {'nombre': nombre, 'email': email, 'compras': []}\n",
    "            print(f\"Se agregó {nombre} al registro de clientes\")\n",
    "        else:\n",
    "            print(f\"El cliente {nombre} ya forma parte del registro de clientes\")\n",
    "    def ver_clientes(self):\n",
    "        for cliente in self.clientes.values():\n",
    "            print(f\"Nombre: {cliente['nombre']}, email: {cliente['email']}\")       "
   ]
  },
  {
   "cell_type": "code",
   "execution_count": 350,
   "metadata": {},
   "outputs": [
    {
     "data": {
      "text/plain": [
       "[{'nombre': 'calcetines', 'precio': 2, 'cantidad': 32},\n",
       " {'nombre': 'chaqueta', 'precio': 50, 'cantidad': 18},\n",
       " {'nombre': 'sudadera', 'precio': 24, 'cantidad': 12},\n",
       " {'nombre': 'pantalon', 'precio': 20, 'cantidad': 10},\n",
       " {'nombre': 'camiseta', 'precio': 5, 'cantidad': 25},\n",
       " {'nombre': 'falda', 'precio': 22, 'cantidad': 12},\n",
       " {'nombre': 'blusa', 'precio': 18, 'cantidad': 15},\n",
       " {'nombre': 'camisa', 'precio': 20, 'cantidad': 10},\n",
       " {'nombre': 'sujetador', 'precio': 8, 'cantidad': 5}]"
      ]
     },
     "execution_count": 350,
     "metadata": {},
     "output_type": "execute_result"
    }
   ],
   "source": [
    "mi_tienda = TiendaOnline(\"Tienda de Paola\")\n",
    "\n",
    "mi_tienda.agregar_producto(\"calcetines\", 2, 32)\n",
    "mi_tienda.agregar_producto(\"chaqueta\", 50, 18)\n",
    "mi_tienda.agregar_producto(\"sudadera\", 24, 12)\n",
    "mi_tienda.agregar_producto(\"pantalon\", 20, 10)\n",
    "mi_tienda.agregar_producto(\"camiseta\", 5, 25)\n",
    "mi_tienda.agregar_producto(\"falda\", 22, 12)\n",
    "mi_tienda.agregar_producto(\"blusa\", 18, 15)\n",
    "mi_tienda.agregar_producto(\"camisa\", 20, 10)\n",
    "mi_tienda.agregar_producto(\"sujetador\", 8, 5)"
   ]
  },
  {
   "cell_type": "code",
   "execution_count": 351,
   "metadata": {},
   "outputs": [
    {
     "name": "stdout",
     "output_type": "stream",
     "text": [
      "Nombre: calcetines, Precio: 2€, Cantidad: 32\n",
      "Nombre: chaqueta, Precio: 50€, Cantidad: 18\n",
      "Nombre: sudadera, Precio: 24€, Cantidad: 12\n",
      "Nombre: pantalon, Precio: 20€, Cantidad: 10\n",
      "Nombre: camiseta, Precio: 5€, Cantidad: 25\n",
      "Nombre: falda, Precio: 22€, Cantidad: 12\n",
      "Nombre: blusa, Precio: 18€, Cantidad: 15\n",
      "Nombre: camisa, Precio: 20€, Cantidad: 10\n",
      "Nombre: sujetador, Precio: 8€, Cantidad: 5\n"
     ]
    }
   ],
   "source": [
    "mi_tienda.ver_inventario()"
   ]
  },
  {
   "cell_type": "code",
   "execution_count": 334,
   "metadata": {},
   "outputs": [
    {
     "name": "stdout",
     "output_type": "stream",
     "text": [
      "Nombre: pantalon, Precio: 20€, Cantidad: 10\n"
     ]
    }
   ],
   "source": [
    "mi_tienda.buscar_producto(\"pantalon\")"
   ]
  },
  {
   "cell_type": "code",
   "execution_count": 335,
   "metadata": {},
   "outputs": [
    {
     "name": "stdout",
     "output_type": "stream",
     "text": [
      "Se ha añadido la cantidad 5 al producto falda\n"
     ]
    }
   ],
   "source": [
    "mi_tienda.actualizar_stock(\"falda\", 5)"
   ]
  },
  {
   "cell_type": "code",
   "execution_count": 348,
   "metadata": {},
   "outputs": [
    {
     "name": "stdout",
     "output_type": "stream",
     "text": [
      "El producto sujetador ha sido eliminado del inventario\n"
     ]
    }
   ],
   "source": [
    "mi_tienda.eliminar_producto(\"sujetador\")"
   ]
  },
  {
   "cell_type": "code",
   "execution_count": 337,
   "metadata": {},
   "outputs": [
    {
     "data": {
      "text/plain": [
       "2461"
      ]
     },
     "execution_count": 337,
     "metadata": {},
     "output_type": "execute_result"
    }
   ],
   "source": [
    "mi_tienda.calcular_calor_inventario()"
   ]
  },
  {
   "cell_type": "code",
   "execution_count": 338,
   "metadata": {},
   "outputs": [
    {
     "name": "stdout",
     "output_type": "stream",
     "text": [
      "Se agregó Tania al registro de clientes\n"
     ]
    }
   ],
   "source": [
    "mi_tienda.agregar_cliente(\"Tania\", \"tania@email.com\")"
   ]
  },
  {
   "cell_type": "code",
   "execution_count": 339,
   "metadata": {},
   "outputs": [
    {
     "name": "stdout",
     "output_type": "stream",
     "text": [
      "Se agregó Lucia al registro de clientes\n"
     ]
    }
   ],
   "source": [
    "mi_tienda.agregar_cliente(\"Lucia\", \"hola@email.com\")"
   ]
  },
  {
   "cell_type": "code",
   "execution_count": 340,
   "metadata": {},
   "outputs": [
    {
     "name": "stdout",
     "output_type": "stream",
     "text": [
      "Nombre: Tania, email: tania@email.com\n",
      "Nombre: Lucia, email: hola@email.com\n"
     ]
    }
   ],
   "source": [
    "mi_tienda.ver_clientes()"
   ]
  }
 ],
 "metadata": {
  "kernelspec": {
   "display_name": "Python 3",
   "language": "python",
   "name": "python3"
  },
  "language_info": {
   "codemirror_mode": {
    "name": "ipython",
    "version": 3
   },
   "file_extension": ".py",
   "mimetype": "text/x-python",
   "name": "python",
   "nbconvert_exporter": "python",
   "pygments_lexer": "ipython3",
   "version": "3.11.9"
  }
 },
 "nbformat": 4,
 "nbformat_minor": 2
}
